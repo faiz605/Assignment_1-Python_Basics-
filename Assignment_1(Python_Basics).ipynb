{
  "nbformat": 4,
  "nbformat_minor": 0,
  "metadata": {
    "colab": {
      "provenance": []
    },
    "kernelspec": {
      "name": "python3",
      "display_name": "Python 3"
    },
    "language_info": {
      "name": "python"
    }
  },
  "cells": [
    {
      "cell_type": "markdown",
      "source": [
        "Theory Questions\n",
        "\n",
        "1. what is python and why is it popuplar ?\n",
        "  -> Python is a programming language which is used to communicate or give command to computer effectively. Python is popular beacause it is easy to learn,huge libraries and framework, community support and versatility .\n",
        "\n",
        "2. what is interpreter in python ?\n",
        "  -> It is a program in python , which reads and execute code line by line , instead of compiling entire code at once\n",
        "\n",
        "3. what are predefined keywords in python ?\n",
        "  -> These are the reserved words of python which is having meaningful and specific purpose and cannot be used as variable E.g. print , if , else etc\n",
        "\n",
        "4. can keyword be used as variable name ?\n",
        "  -> No , keywords cannot be used as variable names.\n",
        "\n",
        "5. what is mutability in python ?\n",
        "  -> It means content can be changed at any point of time after creating.\n",
        "\n",
        "6. why are list mutable , but tuple are immutable ?\n",
        "  -> list is designed to make changes at anypoint of programming but tuples are designed to be fixed to store data such as passwords which should not be changed by anyone .\n",
        "\n",
        "7. what is difference between \"==\" and \"is\" operator in python ?\n",
        "  -> \"==\" is a comparision operator which is used to compare two values and \"is\" is an identity operator which is used to compare the memory location of two object .\n",
        "\n",
        "8. what are logical operator in python ?\n",
        "  -> logical operator combines or compare booleans and provide the final result based on logic .\n",
        "  E.g. True and True = True\n",
        "\n",
        "9. what is type casting in python ?\n",
        "  -> It is the process of converting from one data types to another .\n",
        "  E.g. int() , str() , bool() etc\n",
        "\n",
        "10. what is differnce between implicit and explicit type casting ?\n",
        "  -> Implicit type casting is automatically done by python itself whereas explicit type casting is done by programmer\n",
        "\n",
        "11. what is the purpose of conditional statements in python ?\n",
        "  -> To control the flow of program by running the specific blocks of code only if certain condition are met and making  decisions based on user input , data values or logic.\n",
        "\n",
        "12. How does the elif statement work ?\n",
        "  -> The \"elif\" is also known as \"else-if\" statement is used to check multiple conditions one after another. it allows your program to take different actions depending on which codition is true .\n",
        "\n",
        "13. what is the difference between for and while loops ?\n",
        "  -> Both are loops but \"for\" loop is used when we know how many times to loop and \"while\" loop is used when we dont know how many times to loop .\n",
        "\n",
        "14. Describe a scenario where a \"while\" loop is more suitable than \"for\" loop ?\n",
        "  -> \"for\" loop is usually better when you want a piece of code to run a certain number of times , and \"while\" loop is better when the condition for the code to keep running is more general , such as having a boolean flag that is only set to true when a certain condition is met in the code block ."
      ],
      "metadata": {
        "id": "73mhKTRxUnNL"
      }
    },
    {
      "cell_type": "markdown",
      "source": [
        "Practical Question"
      ],
      "metadata": {
        "id": "Z5QHlJTHe9ag"
      }
    },
    {
      "cell_type": "code",
      "source": [
        "#1. Write a python program to print \"Hello,world!\"\n",
        "a= \"Hello,world!\"\n",
        "print(a)"
      ],
      "metadata": {
        "colab": {
          "base_uri": "https://localhost:8080/"
        },
        "id": "MnLUG9xCfH94",
        "outputId": "af5c6702-6d65-456c-f7b6-daf7be421aba"
      },
      "execution_count": 1,
      "outputs": [
        {
          "output_type": "stream",
          "name": "stdout",
          "text": [
            "Hello,world!\n"
          ]
        }
      ]
    },
    {
      "cell_type": "code",
      "source": [
        "#2. Write a python program that display your name and age.\n",
        "name = \"faiz\"\n",
        "age = 25\n",
        "print (name)\n",
        "print (age)"
      ],
      "metadata": {
        "colab": {
          "base_uri": "https://localhost:8080/"
        },
        "id": "D9cp6pIqg6Eb",
        "outputId": "0d60c3af-9b4a-43fb-dba9-c7701aa598c3"
      },
      "execution_count": 2,
      "outputs": [
        {
          "output_type": "stream",
          "name": "stdout",
          "text": [
            "faiz\n",
            "25\n"
          ]
        }
      ]
    },
    {
      "cell_type": "code",
      "source": [
        "#3. Write code to print all the pre-defined keywords in python using the keyword library.\n",
        "import keyword\n",
        "print(\"Pre-defined keywords in python:\")\n",
        "print(keyword.kwlist)\n",
        "help(\"keywords\")"
      ],
      "metadata": {
        "colab": {
          "base_uri": "https://localhost:8080/"
        },
        "id": "Kp9Z97VjhRHA",
        "outputId": "ce4247d6-0095-4f9f-87e8-f33ae34ffd19"
      },
      "execution_count": 3,
      "outputs": [
        {
          "output_type": "stream",
          "name": "stdout",
          "text": [
            "Pre-defined keywords in python:\n",
            "['False', 'None', 'True', 'and', 'as', 'assert', 'async', 'await', 'break', 'class', 'continue', 'def', 'del', 'elif', 'else', 'except', 'finally', 'for', 'from', 'global', 'if', 'import', 'in', 'is', 'lambda', 'nonlocal', 'not', 'or', 'pass', 'raise', 'return', 'try', 'while', 'with', 'yield']\n",
            "\n",
            "Here is a list of the Python keywords.  Enter any keyword to get more help.\n",
            "\n",
            "False               class               from                or\n",
            "None                continue            global              pass\n",
            "True                def                 if                  raise\n",
            "and                 del                 import              return\n",
            "as                  elif                in                  try\n",
            "assert              else                is                  while\n",
            "async               except              lambda              with\n",
            "await               finally             nonlocal            yield\n",
            "break               for                 not                 \n",
            "\n"
          ]
        }
      ]
    },
    {
      "cell_type": "code",
      "source": [
        "#4.Write a program that check if a given word is a python keyword.\n",
        "import keyword\n",
        "word = input(\"enter a word to check if it is a python keyword:\")\n",
        "if keyword.iskeyword(word):\n",
        "  print(f\"{word} is a python keyword\")\n",
        "else:\n",
        "  print(f\"{word} is not a python keyword\")"
      ],
      "metadata": {
        "colab": {
          "base_uri": "https://localhost:8080/"
        },
        "id": "8goKSAUqjBvg",
        "outputId": "ce9d7689-f756-4260-d601-38df5dd9383b"
      },
      "execution_count": 4,
      "outputs": [
        {
          "output_type": "stream",
          "name": "stdout",
          "text": [
            "enter a word to check if it is a python keyword:True\n",
            "True is a python keyword\n"
          ]
        }
      ]
    },
    {
      "cell_type": "code",
      "source": [
        "#5.Create a list and tuple in Python, and demonstrate how attempting to change an element works differently for each.\n",
        "list_count = [\"goku\",\"vegeta\",\"gohan\",\"trunks\",\"gotan\"]\n",
        "tuple_count = (\"goku\",\"vegeta\",\"gohan\",\"trunks\",\"gotan\")\n",
        "\n",
        "#attempting to change an element in list\n",
        "list_count[0] = \"piccolo\"\n",
        "print(list_count)\n",
        "\n",
        "#attempting to change an element in tuple\n",
        "tuple_count[0] = \"piccolo\"\n",
        "print(tuple_count)"
      ],
      "metadata": {
        "colab": {
          "base_uri": "https://localhost:8080/",
          "height": 211
        },
        "id": "DM_CWRShj0lr",
        "outputId": "03f66fe5-a8d3-418d-8f57-db754e9c8bc7"
      },
      "execution_count": 6,
      "outputs": [
        {
          "output_type": "stream",
          "name": "stdout",
          "text": [
            "['piccolo', 'vegeta', 'gohan', 'trunks', 'gotan']\n"
          ]
        },
        {
          "output_type": "error",
          "ename": "TypeError",
          "evalue": "'tuple' object does not support item assignment",
          "traceback": [
            "\u001b[0;31m---------------------------------------------------------------------------\u001b[0m",
            "\u001b[0;31mTypeError\u001b[0m                                 Traceback (most recent call last)",
            "\u001b[0;32m/tmp/ipython-input-2807767224.py\u001b[0m in \u001b[0;36m<cell line: 0>\u001b[0;34m()\u001b[0m\n\u001b[1;32m      8\u001b[0m \u001b[0;34m\u001b[0m\u001b[0m\n\u001b[1;32m      9\u001b[0m \u001b[0;31m#attempting to change an element in tuple\u001b[0m\u001b[0;34m\u001b[0m\u001b[0;34m\u001b[0m\u001b[0m\n\u001b[0;32m---> 10\u001b[0;31m \u001b[0mtuple_count\u001b[0m\u001b[0;34m[\u001b[0m\u001b[0;36m0\u001b[0m\u001b[0;34m]\u001b[0m \u001b[0;34m=\u001b[0m \u001b[0;34m\"piccolo\"\u001b[0m\u001b[0;34m\u001b[0m\u001b[0;34m\u001b[0m\u001b[0m\n\u001b[0m\u001b[1;32m     11\u001b[0m \u001b[0mprint\u001b[0m\u001b[0;34m(\u001b[0m\u001b[0mtuple_count\u001b[0m\u001b[0;34m)\u001b[0m\u001b[0;34m\u001b[0m\u001b[0;34m\u001b[0m\u001b[0m\n",
            "\u001b[0;31mTypeError\u001b[0m: 'tuple' object does not support item assignment"
          ]
        }
      ]
    },
    {
      "cell_type": "code",
      "source": [
        "#6. Write a function to demonstrate the behavior of mutable and immutable arguments.\n",
        "patient_name = \"Fiza\"\n",
        "lab_result = [\"PCOD: OK\", \"HIV: Negative\"]\n",
        "\n",
        "def update_patient_name(name,test_result):\n",
        "  name = \"updated_\" + name\n",
        "  test_result.append(\"blood test:normal\")\n",
        "  print(\"\\nInside function:\")\n",
        "  print(\"inside function:\",name)\n",
        "  print(\"inside function:\",test_result)\n",
        "\n",
        "update_patient_name(patient_name,lab_result)\n",
        "print(\"\\nOutside function:\")\n",
        "print(\"outside function:\",patient_name)\n",
        "print(\"outside function:\",lab_result)\n",
        "\n"
      ],
      "metadata": {
        "colab": {
          "base_uri": "https://localhost:8080/"
        },
        "id": "4prrpmX9m6T8",
        "outputId": "9e558372-7c2e-4951-a6a2-c7e10ca61f73"
      },
      "execution_count": 8,
      "outputs": [
        {
          "output_type": "stream",
          "name": "stdout",
          "text": [
            "\n",
            "Inside function:\n",
            "inside function: updated_Fiza\n",
            "inside function: ['PCOD: OK', 'HIV: Negative', 'blood test:normal']\n",
            "\n",
            "Outside function:\n",
            "outside function: Fiza\n",
            "outside function: ['PCOD: OK', 'HIV: Negative', 'blood test:normal']\n"
          ]
        }
      ]
    },
    {
      "cell_type": "code",
      "source": [
        "#7. Write a program that performs basic arithmetic operations on two user-input numbers.\n",
        "num1 = int(input(\"enter the first number:\"))\n",
        "num2 = int(input(\"enter the second number:\"))\n",
        "sum = num1 + num2\n",
        "print(f\"the sum of {num1} and {num2} is {sum}\")\n",
        "sub = num1 - num2\n",
        "print(f\"the sub of {num1} and {num2} is {sub}\")\n",
        "div = num1 / num2\n",
        "print(f\"the div of {num1} and {num2} is {div}\")\n",
        "mul = num1 * num2\n",
        "print(f\"the mul of {num1} and {num2} is {mul}\")\n",
        "div = num1 / num2\n",
        "print(f\"the div of {num1} and {num2} is {div}\")"
      ],
      "metadata": {
        "colab": {
          "base_uri": "https://localhost:8080/"
        },
        "id": "ueRnChCwqPfo",
        "outputId": "ec9557e6-1390-49db-905e-be3ac549c463"
      },
      "execution_count": 14,
      "outputs": [
        {
          "output_type": "stream",
          "name": "stdout",
          "text": [
            "enter the first number:8\n",
            "enter the second number:6\n",
            "the sum of 8 and 6 is 14\n",
            "the sub of 8 and 6 is 2\n",
            "the div of 8 and 6 is 1.3333333333333333\n",
            "the mul of 8 and 6 is 48\n",
            "the div of 8 and 6 is 1.3333333333333333\n"
          ]
        }
      ]
    },
    {
      "cell_type": "code",
      "source": [
        "#8.Write a program to demonstrate the use of logical operators.\n",
        "age = int(input(\"enter your age\"))\n",
        "if age >= 18 and age <= 65:\n",
        "  print(\"you are eligible to work\")\n",
        "else:\n",
        "  print(\"you are not eligible to work\")"
      ],
      "metadata": {
        "colab": {
          "base_uri": "https://localhost:8080/"
        },
        "id": "gJoLPaTrsJAX",
        "outputId": "28d06bdd-421d-403b-998b-9298791fc3e8"
      },
      "execution_count": 15,
      "outputs": [
        {
          "output_type": "stream",
          "name": "stdout",
          "text": [
            "enter your age32\n",
            "you are eligible to work\n"
          ]
        }
      ]
    },
    {
      "cell_type": "code",
      "source": [
        "#9.Write a Python program to convert user input from string to integer, float, and boolean types.\n",
        "\n",
        "name = input(\"what is your name?:\")\n",
        "\n",
        "#converting input from string to integer\n",
        "try:\n",
        "  int_value = int(name)\n",
        "  print(f'integar value:{int_value}')\n",
        "except ValueError:\n",
        "  print(\"cannot convert to integer\")\n",
        "\n",
        "#converting input from string to float\n",
        "try:\n",
        "  float_value = float(name)\n",
        "  print(f'float value:{float_value}')\n",
        "except ValueError:\n",
        "  print(\"cannot convert to float\")\n",
        "\n",
        "#convert input from string to boolean\n",
        "try:\n",
        "  bool_value = bool(name)\n",
        "  print(f'boolean value:{bool_value}')\n",
        "except ValueError:\n",
        "  print(\"cannot convert to boolean\")"
      ],
      "metadata": {
        "colab": {
          "base_uri": "https://localhost:8080/"
        },
        "id": "lMPbzBgzsz76",
        "outputId": "557626b5-854a-4deb-8597-163dbc581afc"
      },
      "execution_count": 21,
      "outputs": [
        {
          "output_type": "stream",
          "name": "stdout",
          "text": [
            "what is your name?:faiz ansari\n",
            "cannot convert to integer\n",
            "cannot convert to float\n",
            "boolean value:True\n"
          ]
        }
      ]
    },
    {
      "cell_type": "code",
      "source": [
        "#10.# Original list with string numbers\n",
        "str_list = [\"1\", \"2\", \"3\", \"4\", \"5\"]\n",
        "\n",
        "print(\"Original list (strings):\", str_list)\n",
        "\n",
        "# Convert string elements to integers\n",
        "int_list = [int(item) for item in str_list]\n",
        "print(\"After casting to integers:\", int_list)\n",
        "\n",
        "# Convert integers to floats\n",
        "float_list = [float(item) for item in int_list]\n",
        "print(\"After casting to floats:\", float_list)\n",
        "\n",
        "# Convert floats to strings\n",
        "string_list_again = [str(item) for item in float_list]\n",
        "print(\"After casting back to strings:\", string_list_again)\n"
      ],
      "metadata": {
        "colab": {
          "base_uri": "https://localhost:8080/"
        },
        "id": "JhZ4EwiqvFnK",
        "outputId": "8af55580-a345-4a2b-f0b8-4440d58728dc"
      },
      "execution_count": 19,
      "outputs": [
        {
          "output_type": "stream",
          "name": "stdout",
          "text": [
            "Original list (strings): ['1', '2', '3', '4', '5']\n",
            "After casting to integers: [1, 2, 3, 4, 5]\n",
            "After casting to floats: [1.0, 2.0, 3.0, 4.0, 5.0]\n",
            "After casting back to strings: ['1.0', '2.0', '3.0', '4.0', '5.0']\n"
          ]
        }
      ]
    },
    {
      "cell_type": "code",
      "source": [
        "#11.  Write a program that checks if a number is positive, negative, or zero.\n",
        "\n",
        "# Get input from the user\n",
        "try:\n",
        "    num = float(input(\"Enter a number: \"))\n",
        "\n",
        "    # Check the sign of the number\n",
        "    if num > 0:\n",
        "        print(\"The number is positive.\")\n",
        "    elif num < 0:\n",
        "        print(\"The number is negative.\")\n",
        "    else:\n",
        "        print(\"The number is zero.\")\n",
        "\n",
        "except ValueError:\n",
        "    print(\"Invalid input! Please enter a numeric value.\")\n"
      ],
      "metadata": {
        "colab": {
          "base_uri": "https://localhost:8080/"
        },
        "id": "wNF3JbqUwxAP",
        "outputId": "3b4e08b0-c9b5-4c13-d2ab-2a54eb5f8912"
      },
      "execution_count": 22,
      "outputs": [
        {
          "output_type": "stream",
          "name": "stdout",
          "text": [
            "Enter a number: 56\n",
            "The number is positive.\n"
          ]
        }
      ]
    },
    {
      "cell_type": "code",
      "source": [
        "#12.Write a for loop to print numbers from 1 to 10.\n",
        "\n",
        "for i in range(1, 11):\n",
        "    print(i)\n",
        "\n",
        "\n"
      ],
      "metadata": {
        "colab": {
          "base_uri": "https://localhost:8080/"
        },
        "id": "0RXNV6XfxPyJ",
        "outputId": "70896daf-57c0-4740-e384-bd6b9f58b1a1"
      },
      "execution_count": 23,
      "outputs": [
        {
          "output_type": "stream",
          "name": "stdout",
          "text": [
            "1\n",
            "2\n",
            "3\n",
            "4\n",
            "5\n",
            "6\n",
            "7\n",
            "8\n",
            "9\n",
            "10\n"
          ]
        }
      ]
    },
    {
      "cell_type": "code",
      "source": [
        "#13.Write a Python program to find the sum of all even numbers between 1 and 50.\n",
        "\n",
        "even_sum = 0\n",
        "for num in range(1, 51):\n",
        "    if num % 2 == 0:\n",
        "        even_sum += num\n",
        "print(\"The sum of even numbers from 1 to 50 is:\", even_sum)\n"
      ],
      "metadata": {
        "colab": {
          "base_uri": "https://localhost:8080/"
        },
        "id": "O7_gGPLhxgOB",
        "outputId": "c4823f92-e443-410e-f04f-732526b03b65"
      },
      "execution_count": 24,
      "outputs": [
        {
          "output_type": "stream",
          "name": "stdout",
          "text": [
            "The sum of even numbers from 1 to 50 is: 650\n"
          ]
        }
      ]
    },
    {
      "cell_type": "code",
      "source": [
        "#14.Write a program to reverse a string using a while loop.\n",
        "\n",
        "text = input(\"Enter a string: \")\n",
        "\n",
        "reversed_text = \"\"\n",
        "index = len(text) - 1\n",
        "\n",
        "while index >= 0:\n",
        "    reversed_text += text[index]\n",
        "    index -= 1\n",
        "\n",
        "print(\"Reversed string:\", reversed_text)\n",
        "\n"
      ],
      "metadata": {
        "colab": {
          "base_uri": "https://localhost:8080/"
        },
        "id": "u70RGjTix-bN",
        "outputId": "0afc629b-01ec-4185-d8f6-6116beb836d1"
      },
      "execution_count": 25,
      "outputs": [
        {
          "output_type": "stream",
          "name": "stdout",
          "text": [
            "Enter a string: nikita\n",
            "Reversed string: atikin\n"
          ]
        }
      ]
    },
    {
      "cell_type": "code",
      "source": [
        "#15.Write a Python program to calculate the factorial of a number provided by the user using a while loop\n",
        "\n",
        "try:\n",
        "    num = int(input(\"Enter a non-negative integer: \"))\n",
        "\n",
        "    if num < 0:\n",
        "        print(\"Factorial is not defined for negative numbers.\")\n",
        "    else:\n",
        "        factorial = 1\n",
        "        i = 1\n",
        "\n",
        "        while i <= num:\n",
        "            factorial *= i\n",
        "            i += 1\n",
        "\n",
        "        print(f\"The factorial of {num} is: {factorial}\")\n",
        "\n",
        "except ValueError:\n",
        "    print(\"Invalid input! Please enter a valid integer.\")\n"
      ],
      "metadata": {
        "colab": {
          "base_uri": "https://localhost:8080/"
        },
        "id": "KByKjSyNyn0D",
        "outputId": "c38e4723-7ad3-4657-8b7d-867fa4b245ac"
      },
      "execution_count": 26,
      "outputs": [
        {
          "output_type": "stream",
          "name": "stdout",
          "text": [
            "Enter a non-negative integer: 8\n",
            "The factorial of 8 is: 40320\n"
          ]
        }
      ]
    }
  ]
}